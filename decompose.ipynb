{
 "cells": [
  {
   "cell_type": "code",
   "execution_count": 1,
   "metadata": {},
   "outputs": [
    {
     "name": "stdout",
     "output_type": "stream",
     "text": [
      "IDS path\t: /home/shane/workspace/radical-clustering/data/ids_mod.tsv\n",
      "Dictionary path\t: /home/shane/workspace/radical-clustering/data/cedict_ts.u8\n"
     ]
    }
   ],
   "source": [
    "from pathlib import Path\n",
    "import numpy as np\n",
    "from tqdm import tqdm\n",
    "import pickle\n",
    "import os\n",
    "\n",
    "root_dir = Path(os.path.abspath(\"__file__\")).parent\n",
    "dataset_dir = root_dir / \"data\"\n",
    "ids_file_dir = dataset_dir / \"ids_mod.tsv\"\n",
    "dic_dir = dataset_dir / \"cedict_ts.u8\"\n",
    "pickle_dir = root_dir / \"pickle\"\n",
    "\n",
    "print(f\"IDS path\\t: {ids_file_dir}\")\n",
    "print(f\"Dictionary path\\t: {dic_dir}\")"
   ]
  },
  {
   "cell_type": "code",
   "execution_count": 2,
   "metadata": {},
   "outputs": [
    {
     "name": "stdout",
     "output_type": "stream",
     "text": [
      "atoms: 469\n",
      "nonatoms: 88480\n"
     ]
    },
    {
     "data": {
      "text/plain": [
       "array([['0x3b1', 'α', 'α'],\n",
       "       ['0x2113', 'ℓ', 'ℓ'],\n",
       "       ['0x2460', '①', '①'],\n",
       "       ...,\n",
       "       ['0x2ff9', '⿹', '⿹'],\n",
       "       ['0x2ffa', '⿺', '⿺'],\n",
       "       ['0x2ffb', '⿻', '⿻']], dtype=object)"
      ]
     },
     "execution_count": 2,
     "metadata": {},
     "output_type": "execute_result"
    }
   ],
   "source": [
    "# # ⿰ \tU+2FF0 \tIdeographic description character left to right\n",
    "# # ⿱ \tU+2FF1 \tIdeographic description character above to below\n",
    "# # ⿲ \tU+2FF2 \tIdeographic description character left to middle and right\n",
    "# # ⿳ \tU+2FF3 \tIdeographic description character above to middle and below\n",
    "# # ⿴ \tU+2FF4 \tIdeographic description character full surround\n",
    "# # ⿵ \tU+2FF5 \tIdeographic description character surround from above\n",
    "# # ⿶ \tU+2FF6 \tIdeographic description character surround from below\n",
    "# # ⿷ \tU+2FF7 \tIdeographic description character surround from left\n",
    "# # ⿸ \tU+2FF8 \tIdeographic description character surround from upper left\n",
    "# # ⿹ \tU+2FF9 \tIdeographic description character surround from upper right\n",
    "# # ⿺ \tU+2FFA \tIdeographic description character surround from lower left\n",
    "# # ⿻ \tU+2FFB \tIdeographic description character overlaid\n",
    "\n",
    "tokens = [\n",
    "    ['U+2FF0', '⿰', '⿰'],\n",
    "    ['U+2FF1', '⿱', '⿱'],\n",
    "    ['U+2FF2', '⿲', '⿲'],\n",
    "    ['U+2FF3', '⿳', '⿳'],\n",
    "    ['U+2FF4', '⿴', '⿴'],\n",
    "    ['U+2FF5', '⿵', '⿵'],\n",
    "    ['U+2FF6', '⿶', '⿶'],\n",
    "    ['U+2FF7', '⿷', '⿷'],\n",
    "    ['U+2FF8', '⿸', '⿸'],\n",
    "    ['U+2FF9', '⿹', '⿹'],\n",
    "    ['U+2FFA', '⿺', '⿺'],\n",
    "    ['U+2FFB', '⿻', '⿻'],\n",
    "]\n",
    "\n",
    "tokens = np.array(tokens, dtype='object')\n",
    "\n",
    "ids_file = open(ids_file_dir, 'r')\n",
    "ids_file = ids_file.readlines()[2:]\n",
    "ids_file = [row[:-1].split('\\t') for row in ids_file]\n",
    "\n",
    "temp_ids_file = []\n",
    "for row in ids_file:\n",
    "    temp_ids_file.append(row[:3])\n",
    "ids_file = np.array(temp_ids_file, dtype='object')\n",
    "\n",
    "tokens[:,0] = list(map(lambda x: '0x' + x[2:].lower(), tokens[:,0]))\n",
    "ids_file[:,0] = list(map(lambda x: '0x' + x[2:].lower(), ids_file[:,0]))\n",
    "\n",
    "atoms = []\n",
    "nonatoms = []\n",
    "for row in ids_file:\n",
    "    if len(set(row[2]) & set(tokens[:,2])) == 0:\n",
    "        atoms.append(row)\n",
    "    else:\n",
    "        row[2] = row[2].split('[')[0]\n",
    "        nonatoms.append(row)\n",
    "atoms = np.array(atoms)\n",
    "atoms = np.concatenate((atoms, tokens), axis=0)\n",
    "nonatoms = np.array(nonatoms)\n",
    "\n",
    "with open(pickle_dir / 'atoms.pickle', 'wb') as f:\n",
    "    pickle.dump(atoms, f)\n",
    "\n",
    "with open(pickle_dir / 'nonatoms.pickle', 'wb') as f:\n",
    "    pickle.dump(nonatoms, f)\n",
    "\n",
    "print(f\"atoms: {len(atoms)}\")\n",
    "print(f\"nonatoms: {len(nonatoms)}\")\n",
    "\n",
    "atoms"
   ]
  },
  {
   "cell_type": "code",
   "execution_count": 3,
   "metadata": {},
   "outputs": [
    {
     "name": "stderr",
     "output_type": "stream",
     "text": [
      "  0%|          | 82/88480 [00:05<1:38:19, 14.98it/s]"
     ]
    }
   ],
   "source": [
    "def decompose(sequence):\n",
    "    decomposed_sequence = \"\"\n",
    "    for c in sequence:\n",
    "        decomposed = False\n",
    "        for row in nonatoms:\n",
    "            if c == row[1]:\n",
    "                decomposed_sequence += decompose(row[2])\n",
    "                decomposed = True\n",
    "                break\n",
    "        if not decomposed:\n",
    "            decomposed_sequence += c\n",
    "    return decomposed_sequence\n",
    "\n",
    "for i in tqdm(range(len(nonatoms))):\n",
    "    nonatoms[i][2] = decompose(nonatoms[i][2])"
   ]
  },
  {
   "cell_type": "code",
   "execution_count": null,
   "metadata": {},
   "outputs": [],
   "source": [
    "with open(pickle_dir / 'nonatoms_decomposed.pickle', 'wb') as f:\n",
    "    pickle.dump(nonatoms, f)"
   ]
  },
  {
   "cell_type": "code",
   "execution_count": null,
   "metadata": {},
   "outputs": [],
   "source": [
    "# with open('atoms.pickle', 'wb') as f:\n",
    "#     pickle.dump(atoms, f)"
   ]
  },
  {
   "cell_type": "code",
   "execution_count": null,
   "metadata": {},
   "outputs": [],
   "source": [
    "# with open('decomposed.pickle', 'rb') as f:\n",
    "#     decomposed = pickle.load(f)"
   ]
  }
 ],
 "metadata": {
  "interpreter": {
   "hash": "9763644aba4be5567e39bc4edfabd7b2b04bb5e95bf3d0e4c310b07fda7d4e40"
  },
  "kernelspec": {
   "display_name": "Python 3.8.8 64-bit ('anaconda3-2021.05': pyenv)",
   "name": "python3"
  },
  "language_info": {
   "codemirror_mode": {
    "name": "ipython",
    "version": 3
   },
   "file_extension": ".py",
   "mimetype": "text/x-python",
   "name": "python",
   "nbconvert_exporter": "python",
   "pygments_lexer": "ipython3",
   "version": "3.8.8"
  },
  "orig_nbformat": 4
 },
 "nbformat": 4,
 "nbformat_minor": 2
}
