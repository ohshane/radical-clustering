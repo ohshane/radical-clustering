{
 "cells": [
  {
   "cell_type": "code",
   "execution_count": 1,
   "metadata": {},
   "outputs": [
    {
     "name": "stdout",
     "output_type": "stream",
     "text": [
      "IDS path\t: /home/shaneoh/workspace/radical-clustering/data/ids.tsv\n",
      "Dictionary path\t: /home/shaneoh/workspace/radical-clustering/data/cedict_ts.u8\n"
     ]
    }
   ],
   "source": [
    "from pathlib import Path\n",
    "from tqdm import tqdm\n",
    "import pickle\n",
    "import os\n",
    "\n",
    "root_dir = Path(os.path.abspath(\"__file__\")).parent\n",
    "dataset_dir = root_dir / \"data\"\n",
    "ids_dir = dataset_dir / \"ids.tsv\"\n",
    "dic_dir = dataset_dir / \"cedict_ts.u8\"\n",
    "\n",
    "print(f\"IDS path\\t: {ids_dir}\")\n",
    "print(f\"Dictionary path\\t: {dic_dir}\")"
   ]
  },
  {
   "cell_type": "code",
   "execution_count": 2,
   "metadata": {},
   "outputs": [
    {
     "name": "stdout",
     "output_type": "stream",
     "text": [
      "atoms 457\n",
      "nonatoms 88480\n"
     ]
    }
   ],
   "source": [
    "# ⿰ \tU+2FF0 \tIdeographic description character left to right\n",
    "# ⿱ \tU+2FF1 \tIdeographic description character above to below\n",
    "# ⿲ \tU+2FF2 \tIdeographic description character left to middle and right\n",
    "# ⿳ \tU+2FF3 \tIdeographic description character above to middle and below\n",
    "# ⿴ \tU+2FF4 \tIdeographic description character full surround\n",
    "# ⿵ \tU+2FF5 \tIdeographic description character surround from above\n",
    "# ⿶ \tU+2FF6 \tIdeographic description character surround from below\n",
    "# ⿷ \tU+2FF7 \tIdeographic description character surround from left\n",
    "# ⿸ \tU+2FF8 \tIdeographic description character surround from upper left\n",
    "# ⿹ \tU+2FF9 \tIdeographic description character surround from upper right\n",
    "# ⿺ \tU+2FFA \tIdeographic description character surround from lower left\n",
    "# ⿻ \tU+2FFB \tIdeographic description character overlaid\n",
    "\n",
    "tokens = list('⿰⿱⿲⿳⿴⿵⿶⿷⿸⿹⿺⿻')\n",
    "\n",
    "f = open(ids_dir, 'r')\n",
    "f = f.readlines()[2:]\n",
    "f = [row[:-1].split('\\t') for row in f]\n",
    "\n",
    "atoms = []\n",
    "atom_chars = []\n",
    "nonatoms = []\n",
    "\n",
    "for row in f:\n",
    "    if bool(list(set(row[2]) & set(tokens))):\n",
    "        nonatoms.append(row)\n",
    "    else:\n",
    "        atoms.append(row)\n",
    "        atom_chars.append(row[1])\n",
    "\n",
    "print(f\"atoms {len(atoms)}\")\n",
    "print(f\"nonatoms {len(nonatoms)}\")"
   ]
  },
  {
   "cell_type": "code",
   "execution_count": 3,
   "metadata": {},
   "outputs": [],
   "source": [
    "# decomposed = []\n",
    "\n",
    "# def decompose(element):\n",
    "#     temp_element = ''\n",
    "#     for i, c in enumerate(element):\n",
    "#         if c in tokens or c in atom_chars:\n",
    "#             temp_element += c\n",
    "#         else:\n",
    "#             for row in nonatoms:\n",
    "#                 if row[1] == c:\n",
    "#                     temp_element += decompose(row[2])\n",
    "#                     break\n",
    "#     return temp_element\n",
    "\n",
    "# for row in tqdm(nonatoms):\n",
    "#     temp_decomposed = []\n",
    "#     for i, element in enumerate(row):\n",
    "#         if i < 2:\n",
    "#             temp_decomposed.append(element)\n",
    "#         else:\n",
    "#             temp_decomposed.append(decompose(element))\n",
    "#             break\n",
    "#     decomposed.append(temp_decomposed)"
   ]
  },
  {
   "cell_type": "code",
   "execution_count": 4,
   "metadata": {},
   "outputs": [],
   "source": [
    "# with open('decomposed.pickle', 'wb') as f:\n",
    "#     pickle.dump(decomposed, f)"
   ]
  },
  {
   "cell_type": "code",
   "execution_count": 5,
   "metadata": {},
   "outputs": [],
   "source": [
    "# with open('atoms.pickle', 'wb') as f:\n",
    "#     pickle.dump(atoms, f)"
   ]
  },
  {
   "cell_type": "code",
   "execution_count": 6,
   "metadata": {},
   "outputs": [],
   "source": [
    "# with open('decomposed.pickle', 'rb') as f:\n",
    "#     decomposed = pickle.load(f)"
   ]
  }
 ],
 "metadata": {
  "interpreter": {
   "hash": "9763644aba4be5567e39bc4edfabd7b2b04bb5e95bf3d0e4c310b07fda7d4e40"
  },
  "kernelspec": {
   "display_name": "Python 3.8.8 64-bit ('anaconda3-2021.05': pyenv)",
   "name": "python3"
  },
  "language_info": {
   "codemirror_mode": {
    "name": "ipython",
    "version": 3
   },
   "file_extension": ".py",
   "mimetype": "text/x-python",
   "name": "python",
   "nbconvert_exporter": "python",
   "pygments_lexer": "ipython3",
   "version": "3.8.8"
  },
  "orig_nbformat": 4
 },
 "nbformat": 4,
 "nbformat_minor": 2
}
