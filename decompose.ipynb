{
 "cells": [
  {
   "cell_type": "code",
   "execution_count": 40,
   "metadata": {},
   "outputs": [
    {
     "name": "stdout",
     "output_type": "stream",
     "text": [
      "IDS path\t: /home/shaneoh/workspace/radical-clustering/data/ids.tsv\n",
      "Dictionary path\t: /home/shaneoh/workspace/radical-clustering/data/cedict_ts.u8\n"
     ]
    }
   ],
   "source": [
    "from pathlib import Path\n",
    "import numpy as np\n",
    "import pickle\n",
    "import os\n",
    "\n",
    "root_dir = Path(os.path.abspath(\"__file__\")).parent\n",
    "dataset_dir = root_dir / \"data\"\n",
    "ids_dir = dataset_dir / \"ids.tsv\"\n",
    "dic_dir = dataset_dir / \"cedict_ts.u8\"\n",
    "\n",
    "print(f\"IDS path\\t: {ids_dir}\")\n",
    "print(f\"Dictionary path\\t: {dic_dir}\")"
   ]
  },
  {
   "cell_type": "code",
   "execution_count": 58,
   "metadata": {},
   "outputs": [
    {
     "ename": "TypeError",
     "evalue": "only integer scalar arrays can be converted to a scalar index",
     "output_type": "error",
     "traceback": [
      "\u001b[0;31m---------------------------------------------------------------------------\u001b[0m",
      "\u001b[0;31mTypeError\u001b[0m                                 Traceback (most recent call last)",
      "\u001b[0;32m<ipython-input-58-0e284ab3521f>\u001b[0m in \u001b[0;36m<module>\u001b[0;34m\u001b[0m\n\u001b[1;32m     50\u001b[0m \u001b[0;34m\u001b[0m\u001b[0m\n\u001b[1;32m     51\u001b[0m \u001b[0matoms\u001b[0m \u001b[0;34m=\u001b[0m \u001b[0mnp\u001b[0m\u001b[0;34m.\u001b[0m\u001b[0marray\u001b[0m\u001b[0;34m(\u001b[0m\u001b[0matoms\u001b[0m\u001b[0;34m)\u001b[0m\u001b[0;34m\u001b[0m\u001b[0;34m\u001b[0m\u001b[0m\n\u001b[0;32m---> 52\u001b[0;31m \u001b[0matoms\u001b[0m \u001b[0;34m=\u001b[0m \u001b[0mnp\u001b[0m\u001b[0;34m.\u001b[0m\u001b[0mconcatenate\u001b[0m\u001b[0;34m(\u001b[0m\u001b[0mtokens\u001b[0m\u001b[0;34m,\u001b[0m \u001b[0matoms\u001b[0m\u001b[0;34m)\u001b[0m\u001b[0;34m\u001b[0m\u001b[0;34m\u001b[0m\u001b[0m\n\u001b[0m\u001b[1;32m     53\u001b[0m \u001b[0;34m\u001b[0m\u001b[0m\n\u001b[1;32m     54\u001b[0m \u001b[0mnonatoms\u001b[0m \u001b[0;34m=\u001b[0m \u001b[0mnp\u001b[0m\u001b[0;34m.\u001b[0m\u001b[0marray\u001b[0m\u001b[0;34m(\u001b[0m\u001b[0mnonatoms\u001b[0m\u001b[0;34m)\u001b[0m\u001b[0;34m\u001b[0m\u001b[0;34m\u001b[0m\u001b[0m\n",
      "\u001b[0;32m<__array_function__ internals>\u001b[0m in \u001b[0;36mconcatenate\u001b[0;34m(*args, **kwargs)\u001b[0m\n",
      "\u001b[0;31mTypeError\u001b[0m: only integer scalar arrays can be converted to a scalar index"
     ]
    }
   ],
   "source": [
    "# # ⿰ \tU+2FF0 \tIdeographic description character left to right\n",
    "# # ⿱ \tU+2FF1 \tIdeographic description character above to below\n",
    "# # ⿲ \tU+2FF2 \tIdeographic description character left to middle and right\n",
    "# # ⿳ \tU+2FF3 \tIdeographic description character above to middle and below\n",
    "# # ⿴ \tU+2FF4 \tIdeographic description character full surround\n",
    "# # ⿵ \tU+2FF5 \tIdeographic description character surround from above\n",
    "# # ⿶ \tU+2FF6 \tIdeographic description character surround from below\n",
    "# # ⿷ \tU+2FF7 \tIdeographic description character surround from left\n",
    "# # ⿸ \tU+2FF8 \tIdeographic description character surround from upper left\n",
    "# # ⿹ \tU+2FF9 \tIdeographic description character surround from upper right\n",
    "# # ⿺ \tU+2FFA \tIdeographic description character surround from lower left\n",
    "# # ⿻ \tU+2FFB \tIdeographic description character overlaid\n",
    "\n",
    "tokens = [\n",
    "    ['U+2FF0', '⿰', '⿰'], \n",
    "    ['U+2FF1', '⿱', '⿱'], \n",
    "    ['U+2FF2', '⿲', '⿲'], \n",
    "    ['U+2FF3', '⿳', '⿳'], \n",
    "    ['U+2FF4', '⿴', '⿴'], \n",
    "    ['U+2FF5', '⿵', '⿵'], \n",
    "    ['U+2FF6', '⿶', '⿶'], \n",
    "    ['U+2FF7', '⿷', '⿷'], \n",
    "    ['U+2FF8', '⿸', '⿸'], \n",
    "    ['U+2FF9', '⿹', '⿹'], \n",
    "    ['U+2FFA', '⿺', '⿺'], \n",
    "    ['U+2FFB', '⿻', '⿻'], \n",
    "]\n",
    "\n",
    "tokens = np.array(tokens, dtype='object')\n",
    "\n",
    "ids = open(ids_dir, 'r')\n",
    "ids = ids.readlines()[2:]\n",
    "ids = [row[:-1].split('\\t') for row in ids]\n",
    "\n",
    "temp_ids = []\n",
    "for row in ids:\n",
    "    temp_ids.append(row[:3])\n",
    "ids = np.array(temp_ids, dtype='object')\n",
    "\n",
    "tokens[:,0] = list(map(lambda x: '0x' + x[2:].lower(), tokens[:,0]))\n",
    "ids[:,0] = list(map(lambda x: '0x' + x[2:].lower(), ids[:,0]))\n",
    "\n",
    "atoms = []\n",
    "nonatoms = []\n",
    "for row in ids:\n",
    "    if len(set(row[2]) & set(tokens[:,2])) == 0:\n",
    "        atoms.append(row)\n",
    "    else:\n",
    "        nonatoms.append(row)\n",
    "\n",
    "atoms = np.array(atoms)\n",
    "atoms = np.concatenate(tokens, atoms)\n",
    "\n",
    "nonatoms = np.array(nonatoms)\n",
    "\n",
    "print(f\"atoms: {len(atoms)}\")\n",
    "print(f\"nonatoms: {len(nonatoms)}\")"
   ]
  },
  {
   "cell_type": "code",
   "execution_count": null,
   "metadata": {},
   "outputs": [],
   "source": [
    "def decompose(sequence):\n",
    "    "
   ]
  },
  {
   "cell_type": "code",
   "execution_count": 43,
   "metadata": {},
   "outputs": [],
   "source": [
    "# with open('decomposed.pickle', 'wb') as f:\n",
    "#     pickle.dump(decomposed, f)"
   ]
  },
  {
   "cell_type": "code",
   "execution_count": 44,
   "metadata": {},
   "outputs": [],
   "source": [
    "# with open('atoms.pickle', 'wb') as f:\n",
    "#     pickle.dump(atoms, f)"
   ]
  },
  {
   "cell_type": "code",
   "execution_count": 45,
   "metadata": {},
   "outputs": [],
   "source": [
    "# with open('decomposed.pickle', 'rb') as f:\n",
    "#     decomposed = pickle.load(f)"
   ]
  }
 ],
 "metadata": {
  "interpreter": {
   "hash": "9763644aba4be5567e39bc4edfabd7b2b04bb5e95bf3d0e4c310b07fda7d4e40"
  },
  "kernelspec": {
   "display_name": "Python 3.8.8 64-bit ('anaconda3-2021.05': pyenv)",
   "name": "python3"
  },
  "language_info": {
   "codemirror_mode": {
    "name": "ipython",
    "version": 3
   },
   "file_extension": ".py",
   "mimetype": "text/x-python",
   "name": "python",
   "nbconvert_exporter": "python",
   "pygments_lexer": "ipython3",
   "version": "3.8.8"
  },
  "orig_nbformat": 4
 },
 "nbformat": 4,
 "nbformat_minor": 2
}
