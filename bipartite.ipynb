{
 "cells": [
  {
   "cell_type": "code",
   "execution_count": 15,
   "metadata": {},
   "outputs": [],
   "source": [
    "import networkx as nx\n",
    "from pathlib import Path\n",
    "from functools import reduce\n",
    "import pickle\n",
    "import os\n",
    "\n",
    "root_dir = Path(os.path.abspath(\"__file__\")).parent\n",
    "pickle_dir = root_dir / \"pickle\"\n",
    "\n",
    "with open(pickle_dir / 'atoms.pickle', 'rb') as f:\n",
    "    atoms = pickle.load(f)\n",
    "\n",
    "with open(pickle_dir / 'nonatoms_decomposed.pickle', 'rb') as f:\n",
    "    nonatoms_decomposed = pickle.load(f)"
   ]
  },
  {
   "cell_type": "code",
   "execution_count": 16,
   "metadata": {},
   "outputs": [],
   "source": [
    "unique_atom_set = set([hex(ord(c)) for c in reduce(lambda a, b: a+b, nonatoms_decomposed[:,2])])"
   ]
  },
  {
   "cell_type": "code",
   "execution_count": 18,
   "metadata": {},
   "outputs": [],
   "source": [
    "atom_set = set(atoms[:,0])"
   ]
  },
  {
   "cell_type": "code",
   "execution_count": 32,
   "metadata": {},
   "outputs": [
    {
     "name": "stdout",
     "output_type": "stream",
     "text": [
      "atom set: 469\n",
      "unique atom set: 369\n",
      "['0x211a2' '𡆢' '⿴囗α']\n",
      "['0x219d1' '𡧑' '⿳宀α⿻一人']\n"
     ]
    }
   ],
   "source": [
    "print(f\"atom set: {len(atom_set)}\")\n",
    "print(f\"unique atom set: {len(unique_atom_set)}\")\n",
    "\n",
    "for ids in nonatoms_decomposed:\n",
    "    if chr(0x3b1) in ids[2]:\n",
    "        print(ids)"
   ]
  }
 ],
 "metadata": {
  "interpreter": {
   "hash": "d1c7ddf6bb70615f2a858b187d3630d31071650494c3b4ed8e6e2e8f304fbb71"
  },
  "kernelspec": {
   "display_name": "Python 3.8.8 64-bit ('anaconda3-2021.05': pyenv)",
   "language": "python",
   "name": "python3"
  },
  "language_info": {
   "codemirror_mode": {
    "name": "ipython",
    "version": 3
   },
   "file_extension": ".py",
   "mimetype": "text/x-python",
   "name": "python",
   "nbconvert_exporter": "python",
   "pygments_lexer": "ipython3",
   "version": "3.8.8"
  },
  "orig_nbformat": 4
 },
 "nbformat": 4,
 "nbformat_minor": 2
}
