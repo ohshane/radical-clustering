{
 "cells": [
  {
   "cell_type": "code",
   "execution_count": 45,
   "metadata": {},
   "outputs": [],
   "source": [
    "import networkx as nx\n",
    "from pathlib import Path\n",
    "from functools import reduce\n",
    "import pickle\n",
    "import os\n",
    "\n",
    "root_dir = Path(os.path.abspath(\"__file__\")).parent\n",
    "pickle_dir = root_dir / \"pickle\"\n",
    "\n",
    "with open(pickle_dir / 'atoms.pickle', 'rb') as f:\n",
    "    atoms = pickle.load(f)\n",
    "\n",
    "with open(pickle_dir / 'nonatoms_decomposed.pickle', 'rb') as f:\n",
    "    nonatoms_decomposed = pickle.load(f)"
   ]
  },
  {
   "cell_type": "code",
   "execution_count": 46,
   "metadata": {},
   "outputs": [],
   "source": [
    "unique_atom_set = set([hex(ord(c)) for c in reduce(lambda a, b: a+b, nonatoms_decomposed[:,2])])"
   ]
  },
  {
   "cell_type": "code",
   "execution_count": 49,
   "metadata": {},
   "outputs": [],
   "source": [
    "atom_set = set(atoms[:,0])"
   ]
  }
 ],
 "metadata": {
  "interpreter": {
   "hash": "d1c7ddf6bb70615f2a858b187d3630d31071650494c3b4ed8e6e2e8f304fbb71"
  },
  "kernelspec": {
   "display_name": "Python 3.8.8 64-bit ('anaconda3-2021.05': pyenv)",
   "language": "python",
   "name": "python3"
  },
  "language_info": {
   "codemirror_mode": {
    "name": "ipython",
    "version": 3
   },
   "file_extension": ".py",
   "mimetype": "text/x-python",
   "name": "python",
   "nbconvert_exporter": "python",
   "pygments_lexer": "ipython3",
   "version": "3.8.8"
  },
  "orig_nbformat": 4
 },
 "nbformat": 4,
 "nbformat_minor": 2
}
