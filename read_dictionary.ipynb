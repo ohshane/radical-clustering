{
 "cells": [
  {
   "cell_type": "code",
   "execution_count": 65,
   "metadata": {},
   "outputs": [
    {
     "name": "stdout",
     "output_type": "stream",
     "text": [
      "IDS path\t: /home/shaneoh/workspace/radical-clustering-micro/data/ids_mod.tsv\n",
      "Dictionary path\t: /home/shaneoh/workspace/radical-clustering-micro/data/dictionary.txt\n",
      "atoms 469\n",
      "nonatoms_decomposed 469\n"
     ]
    }
   ],
   "source": [
    "import json\n",
    "\n",
    "from pathlib import Path\n",
    "import numpy as np\n",
    "from tqdm import tqdm\n",
    "import pickle\n",
    "import os\n",
    "\n",
    "root_dir = Path(os.path.abspath(\"__file__\")).parent\n",
    "dataset_dir = root_dir / \"data\"\n",
    "ids_file_dir = dataset_dir / \"ids_mod.tsv\"\n",
    "dic_dir = dataset_dir / \"dictionary.txt\"\n",
    "pickle_dir = root_dir / \"pickle\"\n",
    "\n",
    "print(f\"IDS path\\t: {ids_file_dir}\")\n",
    "print(f\"Dictionary path\\t: {dic_dir}\")\n",
    "\n",
    "with open(pickle_dir / 'atoms.pickle', 'rb') as f:\n",
    "    atoms = pickle.load(f)\n",
    "\n",
    "with open(pickle_dir / 'nonatoms_decomposed.pickle', 'rb') as f:\n",
    "    nonatoms_decomposed = pickle.load(f)\n",
    "\n",
    "print(f'atoms {len(atoms)}')\n",
    "print(f'nonatoms_decomposed {len(atoms)}')\n",
    "\n",
    "atoms_dict = dict(zip(atoms[:,0], atoms[:,2]))\n",
    "nonatoms_decomposed_dict = dict(zip(nonatoms_decomposed[:,0], nonatoms_decomposed[:,2]))\n",
    "decomposed_dict = atoms_dict\n",
    "decomposed_dict.update(nonatoms_decomposed_dict)"
   ]
  },
  {
   "cell_type": "code",
   "execution_count": 66,
   "metadata": {},
   "outputs": [
    {
     "name": "stdout",
     "output_type": "stream",
     "text": [
      "dict 9574\n",
      "{'ideographic': 1840, 'pictographic': 227, 'pictophonetic': 6966, 'none': 541}\n",
      "{'character': '⺊', 'pinyin': [], 'decomposition': '⿰丨？', 'etymology': {'type': 'ideographic', 'hint': 'A crack on an oracle bone; compare 卜'}, 'radical': '⺊', 'matches': [[0], None], 'definition': None}\n"
     ]
    }
   ],
   "source": [
    "# 'character', 'definition', 'pinyin', 'decomposition', 'etymology', 'radical', 'matches'\n",
    "# 'character', 'definition', 'pinyin', 'decomposition',              'radical', 'matches'\n",
    "# 'character',               'pinyin', 'decomposition', 'etymology', 'radical', 'matches'\n",
    "# 'character',               'pinyin', 'decomposition',              'radical', 'matches'\n",
    "\n",
    "dict_list = []\n",
    "keys = ('character', 'definition', 'pinyin', 'decomposition', 'etymology', 'radical', 'matches')\n",
    "with open(dic_dir) as f:\n",
    "    for row in f:\n",
    "        char_info = json.loads(row)\n",
    "        for key in keys:\n",
    "            try:\n",
    "                char_info[key]\n",
    "            except:\n",
    "                char_info[key] = None\n",
    "        dict_list.append(char_info)\n",
    "\n",
    "print(f'dict {len(dict_list)}')\n",
    "\n",
    "type_dict = {}\n",
    "\n",
    "for d in dict_list:\n",
    "    if d['etymology'] is not None:\n",
    "        type_name = d['etymology']['type']\n",
    "        if type_name in type_dict:\n",
    "            type_dict[type_name] += 1\n",
    "        else:\n",
    "            type_dict[type_name] = 1\n",
    "\n",
    "type_dict['none'] = len(dict_list) - sum(type_dict.values())\n",
    "\n",
    "print(type_dict)\n",
    "print(dict_list[2])"
   ]
  },
  {
   "cell_type": "code",
   "execution_count": 67,
   "metadata": {},
   "outputs": [],
   "source": [
    "ideo_dict_list   = (d for d in dict_list if d['etymology'] is not None and d['etymology']['type'] == 'ideographic')\n",
    "picto_dict_list  = (d for d in dict_list if d['etymology'] is not None and d['etymology']['type'] == 'pictographic')\n",
    "picpho_dict_list = (d for d in dict_list if d['etymology'] is not None and d['etymology']['type'] == 'pictophonetic')"
   ]
  }
 ],
 "metadata": {
  "interpreter": {
   "hash": "9763644aba4be5567e39bc4edfabd7b2b04bb5e95bf3d0e4c310b07fda7d4e40"
  },
  "kernelspec": {
   "display_name": "Python 3.8.8 64-bit ('anaconda3-2021.05': pyenv)",
   "language": "python",
   "name": "python3"
  },
  "language_info": {
   "codemirror_mode": {
    "name": "ipython",
    "version": 3
   },
   "file_extension": ".py",
   "mimetype": "text/x-python",
   "name": "python",
   "nbconvert_exporter": "python",
   "pygments_lexer": "ipython3",
   "version": "3.8.8"
  },
  "orig_nbformat": 4
 },
 "nbformat": 4,
 "nbformat_minor": 2
}
