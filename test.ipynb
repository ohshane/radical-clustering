{
 "cells": [
  {
   "cell_type": "code",
   "execution_count": 1,
   "metadata": {},
   "outputs": [],
   "source": [
    "from wok.parse import DictionaryParser, IDSParser\n",
    "from pathlib import Path\n",
    "import os\n",
    "\n",
    "__file__ = Path(os.path.abspath('__file__'))\n",
    "root_path = __file__.parent\n",
    "data_path = root_path/'wok'/'data'\n",
    "pickle_path = data_path/'pickle'"
   ]
  },
  {
   "cell_type": "code",
   "execution_count": 2,
   "metadata": {},
   "outputs": [
    {
     "name": "stdout",
     "output_type": "stream",
     "text": [
      "{'etymology': {'ideographic': 1840, 'pictographic': 227, 'pictophonetic': 6966},\n",
      " 'keys': {'character': 9574,\n",
      "          'decomposition': 9574,\n",
      "          'definition': 9516,\n",
      "          'etymology': 9033,\n",
      "          'matches': 9574,\n",
      "          'pinyin': 9574,\n",
      "          'radical': 9574},\n",
      " 'size': 9574}\n"
     ]
    }
   ],
   "source": [
    "d = DictionaryParser(data_path=data_path)\n",
    "print(d)"
   ]
  },
  {
   "cell_type": "code",
   "execution_count": 3,
   "metadata": {},
   "outputs": [
    {
     "data": {
      "text/plain": [
       "<wok.parse.IDSParser at 0x7f805c1295b0>"
      ]
     },
     "execution_count": 3,
     "metadata": {},
     "output_type": "execute_result"
    }
   ],
   "source": [
    "IDSParser(data_path=data_path)"
   ]
  },
  {
   "cell_type": "code",
   "execution_count": 14,
   "metadata": {},
   "outputs": [
    {
     "data": {
      "text/plain": [
       "'0b11000101'"
      ]
     },
     "execution_count": 14,
     "metadata": {},
     "output_type": "execute_result"
    }
   ],
   "source": [
    "IDSParser.group2binary(\"GTAO\")"
   ]
  }
 ],
 "metadata": {
  "interpreter": {
   "hash": "9763644aba4be5567e39bc4edfabd7b2b04bb5e95bf3d0e4c310b07fda7d4e40"
  },
  "kernelspec": {
   "display_name": "Python 3.8.8 64-bit ('anaconda3-2021.05': pyenv)",
   "language": "python",
   "name": "python3"
  },
  "language_info": {
   "codemirror_mode": {
    "name": "ipython",
    "version": 3
   },
   "file_extension": ".py",
   "mimetype": "text/x-python",
   "name": "python",
   "nbconvert_exporter": "python",
   "pygments_lexer": "ipython3",
   "version": "3.8.8"
  },
  "orig_nbformat": 4
 },
 "nbformat": 4,
 "nbformat_minor": 2
}
