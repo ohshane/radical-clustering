{
 "cells": [
  {
   "cell_type": "code",
   "execution_count": 5,
   "source": [
    "from pathlib import Path\n",
    "import os\n",
    "\n",
    "root_dir = Path(os.path.abspath(\"__file__\")).parent\n",
    "dataset_dir = root_dir / \"data\"\n",
    "ids_dir = dataset_dir / \"ids.txt\"\n",
    "dic_dir = dataset_dir / \"cedict_ts.u8\"\n",
    "\n",
    "print(f\"IDS path\\t: {ids_dir}\")\n",
    "print(f\"Dictionary path\\t: {dic_dir}\")"
   ],
   "outputs": [
    {
     "output_type": "stream",
     "name": "stdout",
     "text": [
      "IDS path\t: /home/shaneoh/workspace/radical-clustering/data/ids.txt\n",
      "Dictionary path\t: /home/shaneoh/workspace/radical-clustering/data/cedict_ts.u8\n"
     ]
    }
   ],
   "metadata": {}
  },
  {
   "cell_type": "code",
   "execution_count": null,
   "source": [],
   "outputs": [],
   "metadata": {}
  }
 ],
 "metadata": {
  "orig_nbformat": 4,
  "language_info": {
   "name": "python",
   "version": "3.8.8",
   "mimetype": "text/x-python",
   "codemirror_mode": {
    "name": "ipython",
    "version": 3
   },
   "pygments_lexer": "ipython3",
   "nbconvert_exporter": "python",
   "file_extension": ".py"
  },
  "kernelspec": {
   "name": "python3",
   "display_name": "Python 3.8.8 64-bit ('anaconda3-2021.05': pyenv)"
  },
  "interpreter": {
   "hash": "df23ace78de3be13de2779f06c84676598752ed75792827ff408bddd727739d2"
  }
 },
 "nbformat": 4,
 "nbformat_minor": 2
}