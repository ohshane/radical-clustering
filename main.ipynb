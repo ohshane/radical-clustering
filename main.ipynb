{
 "cells": [
  {
   "cell_type": "code",
   "execution_count": 23,
   "metadata": {},
   "outputs": [],
   "source": [
    "from pathlib import Path\n",
    "import numpy as np\n",
    "import os\n",
    "import pickle\n",
    "\n",
    "__file__ = Path(os.path.abspath('__file__'))\n",
    "root_dir = __file__.parent\n",
    "data_dir = root_dir/'data'\n",
    "pickle_dir = root_dir/'pickle'"
   ]
  },
  {
   "cell_type": "code",
   "execution_count": 24,
   "metadata": {},
   "outputs": [
    {
     "name": "stdout",
     "output_type": "stream",
     "text": [
      "atoms_ids: 469\n",
      "nonatoms_ids: 88480\n",
      "total_ids: 88949\n"
     ]
    }
   ],
   "source": [
    "with open(pickle_dir/'atoms.pickle', 'rb') as f:\n",
    "    atom_ids = pickle.load(f)\n",
    "\n",
    "with open(pickle_dir/'nonatoms_decomposed.pickle', 'rb') as f:\n",
    "    nonatom_ids = pickle.load(f)\n",
    "\n",
    "print(f\"atoms_ids: {len(atom_ids)}\")\n",
    "print(f\"nonatoms_ids: {len(nonatom_ids)}\")\n",
    "\n",
    "ids = np.concatenate((atom_ids, nonatom_ids), axis=0)\n",
    "print(f\"total_ids: {len(ids)}\")"
   ]
  },
  {
   "cell_type": "code",
   "execution_count": null,
   "metadata": {},
   "outputs": [],
   "source": []
  }
 ],
 "metadata": {
  "interpreter": {
   "hash": "9763644aba4be5567e39bc4edfabd7b2b04bb5e95bf3d0e4c310b07fda7d4e40"
  },
  "kernelspec": {
   "display_name": "Python 3.8.8 64-bit ('anaconda3-2021.05': pyenv)",
   "language": "python",
   "name": "python3"
  },
  "language_info": {
   "codemirror_mode": {
    "name": "ipython",
    "version": 3
   },
   "file_extension": ".py",
   "mimetype": "text/x-python",
   "name": "python",
   "nbconvert_exporter": "python",
   "pygments_lexer": "ipython3",
   "version": "3.8.8"
  },
  "orig_nbformat": 4
 },
 "nbformat": 4,
 "nbformat_minor": 2
}
